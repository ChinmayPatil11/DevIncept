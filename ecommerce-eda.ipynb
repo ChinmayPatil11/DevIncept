{
 "cells": [
  {
   "cell_type": "code",
   "execution_count": 1,
   "metadata": {
    "_cell_guid": "b1076dfc-b9ad-4769-8c92-a6c4dae69d19",
    "_uuid": "8f2839f25d086af736a60e9eeb907d3b93b6e0e5",
    "execution": {
     "iopub.execute_input": "2021-01-01T13:54:34.294867Z",
     "iopub.status.busy": "2021-01-01T13:54:34.294043Z",
     "iopub.status.idle": "2021-01-01T13:54:35.388389Z",
     "shell.execute_reply": "2021-01-01T13:54:35.387543Z"
    },
    "papermill": {
     "duration": 1.119346,
     "end_time": "2021-01-01T13:54:35.388535",
     "exception": false,
     "start_time": "2021-01-01T13:54:34.269189",
     "status": "completed"
    },
    "tags": []
   },
   "outputs": [
    {
     "name": "stdout",
     "output_type": "stream",
     "text": [
      "/kaggle/input/ecommerce-data/data.csv\n"
     ]
    }
   ],
   "source": [
    "# This Python 3 environment comes with many helpful analytics libraries installed\n",
    "# It is defined by the kaggle/python Docker image: https://github.com/kaggle/docker-python\n",
    "# For example, here's several helpful packages to load\n",
    "\n",
    "import numpy as np # linear algebra\n",
    "import pandas as pd # data processing, CSV file I/O (e.g. pd.read_csv)\n",
    "import matplotlib.pyplot as plt\n",
    "import seaborn as sns\n",
    "# Input data files are available in the read-only \"../input/\" directory\n",
    "# For example, running this (by clicking run or pressing Shift+Enter) will list all files under the input directory\n",
    "\n",
    "import os\n",
    "for dirname, _, filenames in os.walk('/kaggle/input'):\n",
    "    for filename in filenames:\n",
    "        print(os.path.join(dirname, filename))\n",
    "\n",
    "# You can write up to 20GB to the current directory (/kaggle/working/) that gets preserved as output when you create a version using \"Save & Run All\" \n",
    "# You can also write temporary files to /kaggle/temp/, but they won't be saved outside of the current session"
   ]
  },
  {
   "cell_type": "code",
   "execution_count": 2,
   "metadata": {
    "execution": {
     "iopub.execute_input": "2021-01-01T13:54:35.425752Z",
     "iopub.status.busy": "2021-01-01T13:54:35.424994Z",
     "iopub.status.idle": "2021-01-01T13:54:35.832341Z",
     "shell.execute_reply": "2021-01-01T13:54:35.830850Z"
    },
    "papermill": {
     "duration": 0.427762,
     "end_time": "2021-01-01T13:54:35.832480",
     "exception": false,
     "start_time": "2021-01-01T13:54:35.404718",
     "status": "completed"
    },
    "tags": []
   },
   "outputs": [],
   "source": [
    "from sklearn.preprocessing import LabelEncoder\n",
    "from sklearn.cluster import KMeans\n",
    "from scipy.cluster.hierarchy import linkage, dendrogram"
   ]
  },
  {
   "cell_type": "code",
   "execution_count": 3,
   "metadata": {
    "execution": {
     "iopub.execute_input": "2021-01-01T13:54:35.875881Z",
     "iopub.status.busy": "2021-01-01T13:54:35.875147Z",
     "iopub.status.idle": "2021-01-01T13:54:37.263010Z",
     "shell.execute_reply": "2021-01-01T13:54:37.261293Z"
    },
    "papermill": {
     "duration": 1.410465,
     "end_time": "2021-01-01T13:54:37.263163",
     "exception": false,
     "start_time": "2021-01-01T13:54:35.852698",
     "status": "completed"
    },
    "tags": []
   },
   "outputs": [],
   "source": [
    "df = pd.read_csv('/kaggle/input/ecommerce-data/data.csv',encoding='ISO-8859-1')"
   ]
  },
  {
   "cell_type": "code",
   "execution_count": 4,
   "metadata": {
    "execution": {
     "iopub.execute_input": "2021-01-01T13:54:37.340078Z",
     "iopub.status.busy": "2021-01-01T13:54:37.338999Z",
     "iopub.status.idle": "2021-01-01T13:54:40.033452Z",
     "shell.execute_reply": "2021-01-01T13:54:40.032871Z"
    },
    "papermill": {
     "duration": 2.754848,
     "end_time": "2021-01-01T13:54:40.033589",
     "exception": false,
     "start_time": "2021-01-01T13:54:37.278741",
     "status": "completed"
    },
    "tags": []
   },
   "outputs": [
    {
     "data": {
      "text/html": [
       "<div>\n",
       "<style scoped>\n",
       "    .dataframe tbody tr th:only-of-type {\n",
       "        vertical-align: middle;\n",
       "    }\n",
       "\n",
       "    .dataframe tbody tr th {\n",
       "        vertical-align: top;\n",
       "    }\n",
       "\n",
       "    .dataframe thead th {\n",
       "        text-align: right;\n",
       "    }\n",
       "</style>\n",
       "<table border=\"1\" class=\"dataframe\">\n",
       "  <thead>\n",
       "    <tr style=\"text-align: right;\">\n",
       "      <th></th>\n",
       "      <th>InvoiceNo</th>\n",
       "      <th>StockCode</th>\n",
       "      <th>Description</th>\n",
       "      <th>Quantity</th>\n",
       "      <th>InvoiceDate</th>\n",
       "      <th>UnitPrice</th>\n",
       "      <th>CustomerID</th>\n",
       "      <th>Country</th>\n",
       "      <th>Sales</th>\n",
       "    </tr>\n",
       "  </thead>\n",
       "  <tbody>\n",
       "    <tr>\n",
       "      <th>0</th>\n",
       "      <td>536365</td>\n",
       "      <td>85123A</td>\n",
       "      <td>WHITE HANGING HEART T-LIGHT HOLDER</td>\n",
       "      <td>6</td>\n",
       "      <td>2010-12-01 08:26:00</td>\n",
       "      <td>2.55</td>\n",
       "      <td>17850.0</td>\n",
       "      <td>United Kingdom</td>\n",
       "      <td>15.30</td>\n",
       "    </tr>\n",
       "    <tr>\n",
       "      <th>1</th>\n",
       "      <td>536365</td>\n",
       "      <td>71053</td>\n",
       "      <td>WHITE METAL LANTERN</td>\n",
       "      <td>6</td>\n",
       "      <td>2010-12-01 08:26:00</td>\n",
       "      <td>3.39</td>\n",
       "      <td>17850.0</td>\n",
       "      <td>United Kingdom</td>\n",
       "      <td>20.34</td>\n",
       "    </tr>\n",
       "    <tr>\n",
       "      <th>2</th>\n",
       "      <td>536365</td>\n",
       "      <td>84406B</td>\n",
       "      <td>CREAM CUPID HEARTS COAT HANGER</td>\n",
       "      <td>8</td>\n",
       "      <td>2010-12-01 08:26:00</td>\n",
       "      <td>2.75</td>\n",
       "      <td>17850.0</td>\n",
       "      <td>United Kingdom</td>\n",
       "      <td>22.00</td>\n",
       "    </tr>\n",
       "    <tr>\n",
       "      <th>3</th>\n",
       "      <td>536365</td>\n",
       "      <td>84029G</td>\n",
       "      <td>KNITTED UNION FLAG HOT WATER BOTTLE</td>\n",
       "      <td>6</td>\n",
       "      <td>2010-12-01 08:26:00</td>\n",
       "      <td>3.39</td>\n",
       "      <td>17850.0</td>\n",
       "      <td>United Kingdom</td>\n",
       "      <td>20.34</td>\n",
       "    </tr>\n",
       "    <tr>\n",
       "      <th>4</th>\n",
       "      <td>536365</td>\n",
       "      <td>84029E</td>\n",
       "      <td>RED WOOLLY HOTTIE WHITE HEART.</td>\n",
       "      <td>6</td>\n",
       "      <td>2010-12-01 08:26:00</td>\n",
       "      <td>3.39</td>\n",
       "      <td>17850.0</td>\n",
       "      <td>United Kingdom</td>\n",
       "      <td>20.34</td>\n",
       "    </tr>\n",
       "  </tbody>\n",
       "</table>\n",
       "</div>"
      ],
      "text/plain": [
       "  InvoiceNo StockCode                          Description  Quantity  \\\n",
       "0    536365    85123A   WHITE HANGING HEART T-LIGHT HOLDER         6   \n",
       "1    536365     71053                  WHITE METAL LANTERN         6   \n",
       "2    536365    84406B       CREAM CUPID HEARTS COAT HANGER         8   \n",
       "3    536365    84029G  KNITTED UNION FLAG HOT WATER BOTTLE         6   \n",
       "4    536365    84029E       RED WOOLLY HOTTIE WHITE HEART.         6   \n",
       "\n",
       "          InvoiceDate  UnitPrice  CustomerID         Country  Sales  \n",
       "0 2010-12-01 08:26:00       2.55     17850.0  United Kingdom  15.30  \n",
       "1 2010-12-01 08:26:00       3.39     17850.0  United Kingdom  20.34  \n",
       "2 2010-12-01 08:26:00       2.75     17850.0  United Kingdom  22.00  \n",
       "3 2010-12-01 08:26:00       3.39     17850.0  United Kingdom  20.34  \n",
       "4 2010-12-01 08:26:00       3.39     17850.0  United Kingdom  20.34  "
      ]
     },
     "execution_count": 4,
     "metadata": {},
     "output_type": "execute_result"
    }
   ],
   "source": [
    "df['InvoiceDate'] = pd.to_datetime(df['InvoiceDate'])\n",
    "df['Sales'] = df['Quantity']*df['UnitPrice']\n",
    "df.head()"
   ]
  },
  {
   "cell_type": "markdown",
   "metadata": {
    "papermill": {
     "duration": 0.016089,
     "end_time": "2021-01-01T13:54:40.066454",
     "exception": false,
     "start_time": "2021-01-01T13:54:40.050365",
     "status": "completed"
    },
    "tags": []
   },
   "source": [
    "## Preliminary analysis\n"
   ]
  },
  {
   "cell_type": "code",
   "execution_count": 5,
   "metadata": {
    "execution": {
     "iopub.execute_input": "2021-01-01T13:54:40.105596Z",
     "iopub.status.busy": "2021-01-01T13:54:40.104907Z",
     "iopub.status.idle": "2021-01-01T13:54:40.206173Z",
     "shell.execute_reply": "2021-01-01T13:54:40.205634Z"
    },
    "papermill": {
     "duration": 0.12345,
     "end_time": "2021-01-01T13:54:40.206288",
     "exception": false,
     "start_time": "2021-01-01T13:54:40.082838",
     "status": "completed"
    },
    "tags": []
   },
   "outputs": [
    {
     "name": "stdout",
     "output_type": "stream",
     "text": [
      "Total number of customers is: 4372\n",
      "Total number of transactions that occured is: 25900\n",
      "Total number of products sold is: 4070\n"
     ]
    }
   ],
   "source": [
    "print('Total number of customers is:', df['CustomerID'].nunique())\n",
    "print('Total number of transactions that occured is:', df['InvoiceNo'].nunique())\n",
    "print('Total number of products sold is:', df['StockCode'].nunique())"
   ]
  },
  {
   "cell_type": "code",
   "execution_count": 6,
   "metadata": {
    "execution": {
     "iopub.execute_input": "2021-01-01T13:54:40.245937Z",
     "iopub.status.busy": "2021-01-01T13:54:40.245214Z",
     "iopub.status.idle": "2021-01-01T13:54:40.505653Z",
     "shell.execute_reply": "2021-01-01T13:54:40.506159Z"
    },
    "papermill": {
     "duration": 0.282978,
     "end_time": "2021-01-01T13:54:40.506317",
     "exception": false,
     "start_time": "2021-01-01T13:54:40.223339",
     "status": "completed"
    },
    "tags": []
   },
   "outputs": [
    {
     "name": "stdout",
     "output_type": "stream",
     "text": [
      "<class 'pandas.core.frame.DataFrame'>\n",
      "RangeIndex: 541909 entries, 0 to 541908\n",
      "Data columns (total 9 columns):\n",
      " #   Column       Non-Null Count   Dtype         \n",
      "---  ------       --------------   -----         \n",
      " 0   InvoiceNo    541909 non-null  object        \n",
      " 1   StockCode    541909 non-null  object        \n",
      " 2   Description  540455 non-null  object        \n",
      " 3   Quantity     541909 non-null  int64         \n",
      " 4   InvoiceDate  541909 non-null  datetime64[ns]\n",
      " 5   UnitPrice    541909 non-null  float64       \n",
      " 6   CustomerID   406829 non-null  float64       \n",
      " 7   Country      541909 non-null  object        \n",
      " 8   Sales        541909 non-null  float64       \n",
      "dtypes: datetime64[ns](1), float64(3), int64(1), object(4)\n",
      "memory usage: 37.2+ MB\n"
     ]
    }
   ],
   "source": [
    "df.info()"
   ]
  },
  {
   "cell_type": "markdown",
   "metadata": {
    "papermill": {
     "duration": 0.017438,
     "end_time": "2021-01-01T13:54:40.540952",
     "exception": false,
     "start_time": "2021-01-01T13:54:40.523514",
     "status": "completed"
    },
    "tags": []
   },
   "source": [
    "## Orders by Country"
   ]
  },
  {
   "cell_type": "code",
   "execution_count": 7,
   "metadata": {
    "execution": {
     "iopub.execute_input": "2021-01-01T13:54:40.612230Z",
     "iopub.status.busy": "2021-01-01T13:54:40.611203Z",
     "iopub.status.idle": "2021-01-01T13:54:40.630272Z",
     "shell.execute_reply": "2021-01-01T13:54:40.631428Z"
    },
    "papermill": {
     "duration": 0.073542,
     "end_time": "2021-01-01T13:54:40.631693",
     "exception": false,
     "start_time": "2021-01-01T13:54:40.558151",
     "status": "completed"
    },
    "tags": []
   },
   "outputs": [
    {
     "name": "stdout",
     "output_type": "stream",
     "text": [
      "Orders came from  38 different countries.\n"
     ]
    }
   ],
   "source": [
    "print('Orders came from ',df['Country'].nunique(),'different countries.')"
   ]
  },
  {
   "cell_type": "code",
   "execution_count": 8,
   "metadata": {
    "execution": {
     "iopub.execute_input": "2021-01-01T13:54:40.674685Z",
     "iopub.status.busy": "2021-01-01T13:54:40.673923Z",
     "iopub.status.idle": "2021-01-01T13:54:40.752834Z",
     "shell.execute_reply": "2021-01-01T13:54:40.752021Z"
    },
    "papermill": {
     "duration": 0.102939,
     "end_time": "2021-01-01T13:54:40.752972",
     "exception": false,
     "start_time": "2021-01-01T13:54:40.650033",
     "status": "completed"
    },
    "tags": []
   },
   "outputs": [
    {
     "data": {
      "text/plain": [
       "United Kingdom          3951\n",
       "Germany                   95\n",
       "France                    87\n",
       "Spain                     29\n",
       "Belgium                   24\n",
       "Switzerland               20\n",
       "Portugal                  19\n",
       "Italy                     15\n",
       "Finland                   12\n",
       "Norway                    10\n",
       "Netherlands                9\n",
       "Australia                  9\n",
       "Austria                    9\n",
       "Channel Islands            9\n",
       "Japan                      8\n",
       "Denmark                    8\n",
       "Sweden                     8\n",
       "Cyprus                     7\n",
       "Poland                     6\n",
       "Canada                     4\n",
       "Israel                     4\n",
       "USA                        4\n",
       "Unspecified                4\n",
       "Greece                     4\n",
       "EIRE                       3\n",
       "Malta                      2\n",
       "United Arab Emirates       2\n",
       "Bahrain                    2\n",
       "RSA                        1\n",
       "Saudi Arabia               1\n",
       "Czech Republic             1\n",
       "Singapore                  1\n",
       "Brazil                     1\n",
       "Lebanon                    1\n",
       "Iceland                    1\n",
       "European Community         1\n",
       "Lithuania                  1\n",
       "Name: Country, dtype: int64"
      ]
     },
     "execution_count": 8,
     "metadata": {},
     "output_type": "execute_result"
    }
   ],
   "source": [
    "customers_by_countries = df.copy()\n",
    "customers_by_countries.drop_duplicates(subset=['CustomerID'],inplace = True)\n",
    "countries = customers_by_countries['Country'].value_counts()\n",
    "countries"
   ]
  },
  {
   "cell_type": "markdown",
   "metadata": {
    "papermill": {
     "duration": 0.017995,
     "end_time": "2021-01-01T13:54:40.789574",
     "exception": false,
     "start_time": "2021-01-01T13:54:40.771579",
     "status": "completed"
    },
    "tags": []
   },
   "source": [
    "We can see that maximum orders came from United Kingdom"
   ]
  },
  {
   "cell_type": "markdown",
   "metadata": {
    "papermill": {
     "duration": 0.018224,
     "end_time": "2021-01-01T13:54:40.825947",
     "exception": false,
     "start_time": "2021-01-01T13:54:40.807723",
     "status": "completed"
    },
    "tags": []
   },
   "source": [
    "## Monthly Sales analysis"
   ]
  },
  {
   "cell_type": "code",
   "execution_count": 9,
   "metadata": {
    "execution": {
     "iopub.execute_input": "2021-01-01T13:54:40.883262Z",
     "iopub.status.busy": "2021-01-01T13:54:40.881448Z",
     "iopub.status.idle": "2021-01-01T13:54:45.503893Z",
     "shell.execute_reply": "2021-01-01T13:54:45.503303Z"
    },
    "papermill": {
     "duration": 4.659844,
     "end_time": "2021-01-01T13:54:45.504043",
     "exception": false,
     "start_time": "2021-01-01T13:54:40.844199",
     "status": "completed"
    },
    "tags": []
   },
   "outputs": [
    {
     "data": {
      "text/html": [
       "<div>\n",
       "<style scoped>\n",
       "    .dataframe tbody tr th:only-of-type {\n",
       "        vertical-align: middle;\n",
       "    }\n",
       "\n",
       "    .dataframe tbody tr th {\n",
       "        vertical-align: top;\n",
       "    }\n",
       "\n",
       "    .dataframe thead th {\n",
       "        text-align: right;\n",
       "    }\n",
       "</style>\n",
       "<table border=\"1\" class=\"dataframe\">\n",
       "  <thead>\n",
       "    <tr style=\"text-align: right;\">\n",
       "      <th></th>\n",
       "      <th>monthly sales</th>\n",
       "      <th>Sales</th>\n",
       "    </tr>\n",
       "  </thead>\n",
       "  <tbody>\n",
       "    <tr>\n",
       "      <th>0</th>\n",
       "      <td>2010-12</td>\n",
       "      <td>748957.020</td>\n",
       "    </tr>\n",
       "    <tr>\n",
       "      <th>1</th>\n",
       "      <td>2011-01</td>\n",
       "      <td>560000.260</td>\n",
       "    </tr>\n",
       "    <tr>\n",
       "      <th>2</th>\n",
       "      <td>2011-02</td>\n",
       "      <td>498062.650</td>\n",
       "    </tr>\n",
       "    <tr>\n",
       "      <th>3</th>\n",
       "      <td>2011-03</td>\n",
       "      <td>683267.080</td>\n",
       "    </tr>\n",
       "    <tr>\n",
       "      <th>4</th>\n",
       "      <td>2011-04</td>\n",
       "      <td>493207.121</td>\n",
       "    </tr>\n",
       "    <tr>\n",
       "      <th>5</th>\n",
       "      <td>2011-05</td>\n",
       "      <td>723333.510</td>\n",
       "    </tr>\n",
       "    <tr>\n",
       "      <th>6</th>\n",
       "      <td>2011-06</td>\n",
       "      <td>691123.120</td>\n",
       "    </tr>\n",
       "    <tr>\n",
       "      <th>7</th>\n",
       "      <td>2011-07</td>\n",
       "      <td>681300.111</td>\n",
       "    </tr>\n",
       "    <tr>\n",
       "      <th>8</th>\n",
       "      <td>2011-08</td>\n",
       "      <td>682680.510</td>\n",
       "    </tr>\n",
       "    <tr>\n",
       "      <th>9</th>\n",
       "      <td>2011-09</td>\n",
       "      <td>1019687.622</td>\n",
       "    </tr>\n",
       "    <tr>\n",
       "      <th>10</th>\n",
       "      <td>2011-10</td>\n",
       "      <td>1070704.670</td>\n",
       "    </tr>\n",
       "    <tr>\n",
       "      <th>11</th>\n",
       "      <td>2011-11</td>\n",
       "      <td>1461756.250</td>\n",
       "    </tr>\n",
       "    <tr>\n",
       "      <th>12</th>\n",
       "      <td>2011-12</td>\n",
       "      <td>433668.010</td>\n",
       "    </tr>\n",
       "  </tbody>\n",
       "</table>\n",
       "</div>"
      ],
      "text/plain": [
       "   monthly sales        Sales\n",
       "0        2010-12   748957.020\n",
       "1        2011-01   560000.260\n",
       "2        2011-02   498062.650\n",
       "3        2011-03   683267.080\n",
       "4        2011-04   493207.121\n",
       "5        2011-05   723333.510\n",
       "6        2011-06   691123.120\n",
       "7        2011-07   681300.111\n",
       "8        2011-08   682680.510\n",
       "9        2011-09  1019687.622\n",
       "10       2011-10  1070704.670\n",
       "11       2011-11  1461756.250\n",
       "12       2011-12   433668.010"
      ]
     },
     "execution_count": 9,
     "metadata": {},
     "output_type": "execute_result"
    }
   ],
   "source": [
    "df['monthly sales'] = pd.to_datetime(df['InvoiceDate']).dt.strftime('%Y-%m')\n",
    "monthly_sales = df.groupby(['monthly sales'],as_index = False).agg({'Sales':'sum'})\n",
    "monthly_sales"
   ]
  },
  {
   "cell_type": "code",
   "execution_count": 10,
   "metadata": {
    "execution": {
     "iopub.execute_input": "2021-01-01T13:54:45.554000Z",
     "iopub.status.busy": "2021-01-01T13:54:45.553240Z",
     "iopub.status.idle": "2021-01-01T13:54:45.824447Z",
     "shell.execute_reply": "2021-01-01T13:54:45.823844Z"
    },
    "papermill": {
     "duration": 0.301173,
     "end_time": "2021-01-01T13:54:45.824568",
     "exception": false,
     "start_time": "2021-01-01T13:54:45.523395",
     "status": "completed"
    },
    "tags": []
   },
   "outputs": [
    {
     "data": {
      "image/png": "[encoded data removed]",
      "text/plain": [
       "<Figure size 432x288 with 1 Axes>"
      ]
     },
     "metadata": {
      "needs_background": "light"
     },
     "output_type": "display_data"
    }
   ],
   "source": [
    "sns.lineplot(monthly_sales['monthly sales'],monthly_sales['Sales'])\n",
    "sns.scatterplot(monthly_sales['monthly sales'],monthly_sales['Sales'])\n",
    "plt.xticks(rotation = 45);"
   ]
  },
  {
   "cell_type": "markdown",
   "metadata": {
    "papermill": {
     "duration": 0.020661,
     "end_time": "2021-01-01T13:54:45.871956",
     "exception": false,
     "start_time": "2021-01-01T13:54:45.851295",
     "status": "completed"
    },
    "tags": []
   },
   "source": [
    "Sales increased and decreased for almost every month in the beginning, but since June,2011 the sales gradually starting rising until the maximum sales took place in the month November-2011 (2011-11)."
   ]
  },
  {
   "cell_type": "markdown",
   "metadata": {
    "papermill": {
     "duration": 0.020383,
     "end_time": "2021-01-01T13:54:45.913428",
     "exception": false,
     "start_time": "2021-01-01T13:54:45.893045",
     "status": "completed"
    },
    "tags": []
   },
   "source": [
    "## Grouping customers\n"
   ]
  },
  {
   "cell_type": "code",
   "execution_count": 11,
   "metadata": {
    "execution": {
     "iopub.execute_input": "2021-01-01T13:54:45.957754Z",
     "iopub.status.busy": "2021-01-01T13:54:45.957033Z",
     "iopub.status.idle": "2021-01-01T13:54:46.103322Z",
     "shell.execute_reply": "2021-01-01T13:54:46.102551Z"
    },
    "papermill": {
     "duration": 0.169284,
     "end_time": "2021-01-01T13:54:46.103455",
     "exception": false,
     "start_time": "2021-01-01T13:54:45.934171",
     "status": "completed"
    },
    "tags": []
   },
   "outputs": [
    {
     "data": {
      "text/html": [
       "<div>\n",
       "<style scoped>\n",
       "    .dataframe tbody tr th:only-of-type {\n",
       "        vertical-align: middle;\n",
       "    }\n",
       "\n",
       "    .dataframe tbody tr th {\n",
       "        vertical-align: top;\n",
       "    }\n",
       "\n",
       "    .dataframe thead th {\n",
       "        text-align: right;\n",
       "    }\n",
       "</style>\n",
       "<table border=\"1\" class=\"dataframe\">\n",
       "  <thead>\n",
       "    <tr style=\"text-align: right;\">\n",
       "      <th></th>\n",
       "      <th>CustomerID</th>\n",
       "      <th>Sales</th>\n",
       "      <th>InvoiceNo</th>\n",
       "      <th>Country</th>\n",
       "    </tr>\n",
       "  </thead>\n",
       "  <tbody>\n",
       "    <tr>\n",
       "      <th>0</th>\n",
       "      <td>12346.0</td>\n",
       "      <td>0.00</td>\n",
       "      <td>2</td>\n",
       "      <td>United Kingdom</td>\n",
       "    </tr>\n",
       "    <tr>\n",
       "      <th>1</th>\n",
       "      <td>12347.0</td>\n",
       "      <td>4310.00</td>\n",
       "      <td>182</td>\n",
       "      <td>Iceland</td>\n",
       "    </tr>\n",
       "    <tr>\n",
       "      <th>2</th>\n",
       "      <td>12348.0</td>\n",
       "      <td>1797.24</td>\n",
       "      <td>31</td>\n",
       "      <td>Finland</td>\n",
       "    </tr>\n",
       "    <tr>\n",
       "      <th>3</th>\n",
       "      <td>12349.0</td>\n",
       "      <td>1757.55</td>\n",
       "      <td>73</td>\n",
       "      <td>Italy</td>\n",
       "    </tr>\n",
       "    <tr>\n",
       "      <th>4</th>\n",
       "      <td>12350.0</td>\n",
       "      <td>334.40</td>\n",
       "      <td>17</td>\n",
       "      <td>Norway</td>\n",
       "    </tr>\n",
       "    <tr>\n",
       "      <th>...</th>\n",
       "      <td>...</td>\n",
       "      <td>...</td>\n",
       "      <td>...</td>\n",
       "      <td>...</td>\n",
       "    </tr>\n",
       "    <tr>\n",
       "      <th>4367</th>\n",
       "      <td>18280.0</td>\n",
       "      <td>180.60</td>\n",
       "      <td>10</td>\n",
       "      <td>United Kingdom</td>\n",
       "    </tr>\n",
       "    <tr>\n",
       "      <th>4368</th>\n",
       "      <td>18281.0</td>\n",
       "      <td>80.82</td>\n",
       "      <td>7</td>\n",
       "      <td>United Kingdom</td>\n",
       "    </tr>\n",
       "    <tr>\n",
       "      <th>4369</th>\n",
       "      <td>18282.0</td>\n",
       "      <td>176.60</td>\n",
       "      <td>13</td>\n",
       "      <td>United Kingdom</td>\n",
       "    </tr>\n",
       "    <tr>\n",
       "      <th>4370</th>\n",
       "      <td>18283.0</td>\n",
       "      <td>2094.88</td>\n",
       "      <td>756</td>\n",
       "      <td>United Kingdom</td>\n",
       "    </tr>\n",
       "    <tr>\n",
       "      <th>4371</th>\n",
       "      <td>18287.0</td>\n",
       "      <td>1837.28</td>\n",
       "      <td>70</td>\n",
       "      <td>United Kingdom</td>\n",
       "    </tr>\n",
       "  </tbody>\n",
       "</table>\n",
       "<p>4372 rows × 4 columns</p>\n",
       "</div>"
      ],
      "text/plain": [
       "      CustomerID    Sales  InvoiceNo         Country\n",
       "0        12346.0     0.00          2  United Kingdom\n",
       "1        12347.0  4310.00        182         Iceland\n",
       "2        12348.0  1797.24         31         Finland\n",
       "3        12349.0  1757.55         73           Italy\n",
       "4        12350.0   334.40         17          Norway\n",
       "...          ...      ...        ...             ...\n",
       "4367     18280.0   180.60         10  United Kingdom\n",
       "4368     18281.0    80.82          7  United Kingdom\n",
       "4369     18282.0   176.60         13  United Kingdom\n",
       "4370     18283.0  2094.88        756  United Kingdom\n",
       "4371     18287.0  1837.28         70  United Kingdom\n",
       "\n",
       "[4372 rows x 4 columns]"
      ]
     },
     "execution_count": 11,
     "metadata": {},
     "output_type": "execute_result"
    }
   ],
   "source": [
    "customers = df.groupby(['CustomerID'],as_index = False).agg({'Sales':'sum','InvoiceNo':'count','Country':'first'})\n",
    "customers"
   ]
  },
  {
   "cell_type": "code",
   "execution_count": 12,
   "metadata": {
    "execution": {
     "iopub.execute_input": "2021-01-01T13:54:46.154549Z",
     "iopub.status.busy": "2021-01-01T13:54:46.153701Z",
     "iopub.status.idle": "2021-01-01T13:54:46.156798Z",
     "shell.execute_reply": "2021-01-01T13:54:46.156124Z"
    },
    "papermill": {
     "duration": 0.031497,
     "end_time": "2021-01-01T13:54:46.156917",
     "exception": false,
     "start_time": "2021-01-01T13:54:46.125420",
     "status": "completed"
    },
    "tags": []
   },
   "outputs": [],
   "source": [
    "encoder = LabelEncoder()\n",
    "customers['Country'] = encoder.fit_transform(customers['Country'])"
   ]
  },
  {
   "cell_type": "code",
   "execution_count": 13,
   "metadata": {
    "execution": {
     "iopub.execute_input": "2021-01-01T13:54:46.210425Z",
     "iopub.status.busy": "2021-01-01T13:54:46.207135Z",
     "iopub.status.idle": "2021-01-01T13:54:47.327855Z",
     "shell.execute_reply": "2021-01-01T13:54:47.329016Z"
    },
    "papermill": {
     "duration": 1.150861,
     "end_time": "2021-01-01T13:54:47.329254",
     "exception": false,
     "start_time": "2021-01-01T13:54:46.178393",
     "status": "completed"
    },
    "tags": []
   },
   "outputs": [
    {
     "name": "stdout",
     "output_type": "stream",
     "text": [
      "   inertia_values\n",
      "0    2.955308e+11\n",
      "1    1.002318e+11\n",
      "2    4.937286e+10\n",
      "3    3.038788e+10\n",
      "4    1.803228e+10\n",
      "5    1.178084e+10\n",
      "6    8.568577e+09\n",
      "7    5.657027e+09\n",
      "8    4.179069e+09\n",
      "9    3.252976e+09\n"
     ]
    }
   ],
   "source": [
    "X = customers[['Sales','InvoiceNo','Country']]\n",
    "inertias = []\n",
    "for i in range(1,11):\n",
    "    kmeans = KMeans(n_clusters = i,random_state=0)\n",
    "    kmeans.fit(X)\n",
    "    inertias.append(kmeans.inertia_)\n",
    "\n",
    "print(pd.DataFrame(inertias,columns=['inertia_values']))"
   ]
  },
  {
   "cell_type": "code",
   "execution_count": 14,
   "metadata": {
    "execution": {
     "iopub.execute_input": "2021-01-01T13:54:47.393178Z",
     "iopub.status.busy": "2021-01-01T13:54:47.392145Z",
     "iopub.status.idle": "2021-01-01T13:54:47.703673Z",
     "shell.execute_reply": "2021-01-01T13:54:47.704244Z"
    },
    "papermill": {
     "duration": 0.346852,
     "end_time": "2021-01-01T13:54:47.704396",
     "exception": false,
     "start_time": "2021-01-01T13:54:47.357544",
     "status": "completed"
    },
    "tags": []
   },
   "outputs": [
    {
     "data": {
      "text/plain": [
       "Text(0.5, 1.0, 'Number of clusters vs inertia values')"
      ]
     },
     "execution_count": 14,
     "metadata": {},
     "output_type": "execute_result"
    },
    {
     "data": {
      "image/png": "[encoded data removed]",
      "text/plain": [
       "<Figure size 432x288 with 1 Axes>"
      ]
     },
     "metadata": {},
     "output_type": "display_data"
    }
   ],
   "source": [
    "sns.set_style('darkgrid')\n",
    "sns.lineplot(range(1,11),inertias)\n",
    "plt.xlabel('Number of clusters')\n",
    "plt.ylabel('inertia values')\n",
    "plt.title('Number of clusters vs inertia values')"
   ]
  },
  {
   "cell_type": "markdown",
   "metadata": {
    "papermill": {
     "duration": 0.023349,
     "end_time": "2021-01-01T13:54:47.751751",
     "exception": false,
     "start_time": "2021-01-01T13:54:47.728402",
     "status": "completed"
    },
    "tags": []
   },
   "source": [
    "Optimum cluster number can be seen to be 3"
   ]
  },
  {
   "cell_type": "code",
   "execution_count": 15,
   "metadata": {
    "execution": {
     "iopub.execute_input": "2021-01-01T13:54:47.801865Z",
     "iopub.status.busy": "2021-01-01T13:54:47.800758Z",
     "iopub.status.idle": "2021-01-01T13:54:47.863293Z",
     "shell.execute_reply": "2021-01-01T13:54:47.863922Z"
    },
    "papermill": {
     "duration": 0.089532,
     "end_time": "2021-01-01T13:54:47.864114",
     "exception": false,
     "start_time": "2021-01-01T13:54:47.774582",
     "status": "completed"
    },
    "tags": []
   },
   "outputs": [
    {
     "data": {
      "text/plain": [
       "KMeans(n_clusters=3, random_state=0)"
      ]
     },
     "execution_count": 15,
     "metadata": {},
     "output_type": "execute_result"
    }
   ],
   "source": [
    "kmeans = KMeans(n_clusters=3,random_state=0)\n",
    "kmeans.fit(X)"
   ]
  },
  {
   "cell_type": "code",
   "execution_count": 16,
   "metadata": {
    "execution": {
     "iopub.execute_input": "2021-01-01T13:54:47.934630Z",
     "iopub.status.busy": "2021-01-01T13:54:47.933377Z",
     "iopub.status.idle": "2021-01-01T13:54:53.559850Z",
     "shell.execute_reply": "2021-01-01T13:54:53.559142Z"
    },
    "papermill": {
     "duration": 5.665266,
     "end_time": "2021-01-01T13:54:53.559970",
     "exception": false,
     "start_time": "2021-01-01T13:54:47.894704",
     "status": "completed"
    },
    "tags": []
   },
   "outputs": [
    {
     "data": {
      "image/png": "[encoded data removed]",
      "text/plain": [
       "<Figure size 432x288 with 1 Axes>"
      ]
     },
     "metadata": {},
     "output_type": "display_data"
    }
   ],
   "source": [
    "Z = linkage(X, method='ward',metric='euclidean')\n",
    "plt.title('Hierarchical Clustering Dendrogram (truncated)')\n",
    "plt.xlabel('sample index')\n",
    "plt.ylabel('distance')\n",
    "dendrogram(Z,truncate_mode='lastp',p=12,show_leaf_counts=False,  \n",
    "            leaf_rotation=90.,leaf_font_size=12.,show_contracted=True,)\n",
    "plt.show()"
   ]
  },
  {
   "cell_type": "code",
   "execution_count": null,
   "metadata": {
    "papermill": {
     "duration": 0.024652,
     "end_time": "2021-01-01T13:54:53.610209",
     "exception": false,
     "start_time": "2021-01-01T13:54:53.585557",
     "status": "completed"
    },
    "tags": []
   },
   "outputs": [],
   "source": []
  }
 ],
 "metadata": {
  "kernelspec": {
   "display_name": "Python 3",
   "language": "python",
   "name": "python3"
  },
  "language_info": {
   "codemirror_mode": {
    "name": "ipython",
    "version": 3
   },
   "file_extension": ".py",
   "mimetype": "text/x-python",
   "name": "python",
   "nbconvert_exporter": "python",
   "pygments_lexer": "ipython3",
   "version": "3.7.6"
  },
  "papermill": {
   "duration": 24.599882,
   "end_time": "2021-01-01T13:54:53.743937",
   "environment_variables": {},
   "exception": null,
   "input_path": "__notebook__.ipynb",
   "output_path": "__notebook__.ipynb",
   "parameters": {},
   "start_time": "2021-01-01T13:54:29.144055",
   "version": "2.1.0"
  }
 },
 "nbformat": 4,
 "nbformat_minor": 4
}
